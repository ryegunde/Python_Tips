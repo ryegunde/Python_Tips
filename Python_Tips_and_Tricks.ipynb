{
  "nbformat": 4,
  "nbformat_minor": 0,
  "metadata": {
    "colab": {
      "name": "Python Tips and Tricks.ipynb",
      "provenance": [],
      "authorship_tag": "ABX9TyP+RZAihMqHU8qh5fQIY0VM",
      "include_colab_link": true
    },
    "kernelspec": {
      "name": "python3",
      "display_name": "Python 3"
    }
  },
  "cells": [
    {
      "cell_type": "markdown",
      "metadata": {
        "id": "view-in-github",
        "colab_type": "text"
      },
      "source": [
        "<a href=\"https://colab.research.google.com/github/ryegunde/Python_Tips/blob/main/Python_Tips_and_Tricks.ipynb\" target=\"_parent\"><img src=\"https://colab.research.google.com/assets/colab-badge.svg\" alt=\"Open In Colab\"/></a>"
      ]
    },
    {
      "cell_type": "markdown",
      "metadata": {
        "id": "DggzZCn7ipJ8"
      },
      "source": [
        "#The purpose of this notebook is to act as a quick resource for python"
      ]
    },
    {
      "cell_type": "markdown",
      "metadata": {
        "id": "E0DuMaXli3cJ"
      },
      "source": [
        "##List Comprehensions\n",
        "\n",
        "say we want to double all the elements in a, Well with list comprehensions we no longer have to create a loop.\n",
        "\n",
        "use format list[func for x in lst]"
      ]
    },
    {
      "cell_type": "code",
      "metadata": {
        "id": "Jnk53UK9jd4E",
        "outputId": "861b2099-0317-40a9-81e3-bf1ba4fee95e",
        "colab": {
          "base_uri": "https://localhost:8080/"
        }
      },
      "source": [
        "a = [1, 3, 5, 7, 9]\n",
        "\n",
        "#Traditional loop method\n",
        "b = []\n",
        "for x in a:\n",
        "  b.append(x*2)\n",
        "print(b)\n",
        "\n",
        "#Now with list comprehensions\n",
        "c = [x*2 for x in a]\n",
        "print(c)"
      ],
      "execution_count": null,
      "outputs": [
        {
          "output_type": "stream",
          "text": [
            "[2, 6, 10, 14, 18]\n",
            "[2, 6, 10, 14, 18]\n"
          ],
          "name": "stdout"
        }
      ]
    },
    {
      "cell_type": "markdown",
      "metadata": {
        "id": "ZHTxq6WDkZiC"
      },
      "source": [
        "another example: lets create a list of elements 1-7 all squared"
      ]
    },
    {
      "cell_type": "code",
      "metadata": {
        "id": "FwdFYYpwkfJN"
      },
      "source": [
        "a = [(x**2) for x in range(1, 7)]           #Note: The range goes from one until right bef\n",
        "print(a)"
      ],
      "execution_count": null,
      "outputs": []
    },
    {
      "cell_type": "markdown",
      "metadata": {
        "id": "umpebGRHk-e4"
      },
      "source": [
        "another example: lets create a list of elements starting from 7 and going to 1 all squared"
      ]
    },
    {
      "cell_type": "code",
      "metadata": {
        "id": "WiwpCU_ClEfN",
        "outputId": "e7591e70-e5a8-43e4-fab6-ec9be9eaa421",
        "colab": {
          "base_uri": "https://localhost:8080/"
        }
      },
      "source": [
        "a = [(x**2) for x in range(7, 0, -1)]       #Note: instead of going up by one each time, we want to go down by one so we use -1\n",
        "print(a)"
      ],
      "execution_count": null,
      "outputs": [
        {
          "output_type": "stream",
          "text": [
            "[49, 36, 25, 16, 9, 4, 1]\n"
          ],
          "name": "stdout"
        }
      ]
    }
  ]
}